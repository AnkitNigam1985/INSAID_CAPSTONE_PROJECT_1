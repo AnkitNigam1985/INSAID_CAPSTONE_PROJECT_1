{
 "cells": [
  {
   "cell_type": "markdown",
   "metadata": {},
   "source": [
    "# Capstone Project 1 - Group ID - 1026"
   ]
  },
  {
   "cell_type": "markdown",
   "metadata": {},
   "source": [
    "Amar Sheth"
   ]
  },
  {
   "cell_type": "markdown",
   "metadata": {},
   "source": [
    "###### Import Packages"
   ]
  },
  {
   "cell_type": "code",
   "execution_count": null,
   "metadata": {},
   "outputs": [],
   "source": [
    "import mysql.connector as mysql_conn\n",
    "from mysql.connector import Error\n",
    "\n",
    "import pandas as pd"
   ]
  },
  {
   "cell_type": "markdown",
   "metadata": {},
   "source": [
    "###### Define Variable"
   ]
  },
  {
   "cell_type": "code",
   "execution_count": null,
   "metadata": {},
   "outputs": [],
   "source": [
    "MYSQL_USER = MYSQL_PWD = \"student\"\n",
    "MYSQL_HOST = \"cpanel.insaid.co\"\n",
    "MYSQL_DB = \"Capstone1\""
   ]
  },
  {
   "cell_type": "markdown",
   "metadata": {},
   "source": [
    "###### Connect to Database function"
   ]
  },
  {
   "cell_type": "code",
   "execution_count": null,
   "metadata": {},
   "outputs": [],
   "source": [
    "def connect_db():\n",
    "    return mysql.connector.connect(\n",
    "        host=MYSQL_HOST,\n",
    "        user=MYSQL_USER,\n",
    "        passwd=MYSQL_PWD,\n",
    "        database=MYSQL_DB,\n",
    "        connect_timeout=1000000,\n",
    "        buffered=True\n",
    "    )"
   ]
  },
  {
   "cell_type": "markdown",
   "metadata": {},
   "source": [
    "###### Execute Query function"
   ]
  },
  {
   "cell_type": "code",
   "execution_count": null,
   "metadata": {},
   "outputs": [],
   "source": [
    "def execute_query(query, connection):\n",
    "    df = pd.read_sql(query, con = connection)\n",
    "    return df"
   ]
  },
  {
   "cell_type": "code",
   "execution_count": null,
   "metadata": {},
   "outputs": [],
   "source": [
    "def get_data(query):\n",
    "    df = pd.DataFrame()\n",
    "    try:\n",
    "        db_connection = connect_db()\n",
    "    \n",
    "        if db_connection.is_connected():\n",
    "            df = execute_query(query, db_connection)\n",
    "    \n",
    "    except Error as e:\n",
    "        print(\"Error while connecting to MySQL\", e)\n",
    "        print(\"Error code:\", e.errno)\n",
    "        print(\"Error message:\", e.msg)\n",
    "    finally:\n",
    "        if (db_connection.is_connected()):\n",
    "            cursor.close()\n",
    "            db_connection.close()\n",
    "            print(\"MySQL connection is closed\")\n",
    "    \n",
    "    return df"
   ]
  },
  {
   "cell_type": "markdown",
   "metadata": {},
   "source": [
    "###### Retreive Event Data"
   ]
  },
  {
   "cell_type": "code",
   "execution_count": null,
   "metadata": {},
   "outputs": [],
   "source": [
    "event_data_query_mp = \"SELECT * FROM events_data where state in ('MadhyaPradesh') \" \n",
    "df_event_data_mp = get_data(event_data_query_mp)\n",
    "\n",
    "event_data_query_other = \"SELECT * FROM events_data where state in ('Chhattisgarh', 'Uttaranchal', 'JammuandKashmir', 'JammuandKashmir', 'Goa', 'Nagaland') \" #where state in ('MadhyaPradesh')\n",
    "df_event_data_other = get_data(event_data_query_other)\n",
    "\n",
    "df_event_data = pd.concat([df_event_data_mp, df_event_data_other])\n",
    "\n",
    "df_event_data.head()"
   ]
  },
  {
   "cell_type": "markdown",
   "metadata": {},
   "source": [
    "###### Retreive Gender Age Data"
   ]
  },
  {
   "cell_type": "code",
   "execution_count": null,
   "metadata": {},
   "outputs": [],
   "source": [
    "gender_age_train_query = \"SELECT * FROM gender_age_train WHERE device_id IN (SELECT DISTINCT device_id from events_data where state in ('MadhyaPradesh', 'Chhattisgarh', 'Uttaranchal', 'JammuandKashmir', 'JammuandKashmir', 'Goa', 'Nagaland')) \"\n",
    "df_gender_age_train = get_data(gender_age_train_query)\n",
    "df_gender_age_train"
   ]
  },
  {
   "cell_type": "markdown",
   "metadata": {},
   "source": [
    "###### Retreive Phone Brand Device Data"
   ]
  },
  {
   "cell_type": "code",
   "execution_count": null,
   "metadata": {},
   "outputs": [],
   "source": [
    "phone_brand_device_modal_query = \"SELECT * FROM phone_brand_device_model WHERE device_id IN (SELECT DISTINCT device_id from events_data where state in ('MadhyaPradesh', 'Chhattisgarh', 'Uttaranchal', 'JammuandKashmir', 'JammuandKashmir', 'Goa', 'Nagaland')) \"\n",
    "df_phone_brand_device_modal = get_data(phone_brand_device_modal_query)\n",
    "df_phone_brand_device_modal"
   ]
  }
 ],
 "metadata": {
  "kernelspec": {
   "display_name": "Python 3",
   "language": "python",
   "name": "python3"
  },
  "language_info": {
   "codemirror_mode": {
    "name": "ipython",
    "version": 3
   },
   "file_extension": ".py",
   "mimetype": "text/x-python",
   "name": "python",
   "nbconvert_exporter": "python",
   "pygments_lexer": "ipython3",
   "version": "3.7.4"
  }
 },
 "nbformat": 4,
 "nbformat_minor": 2
}
